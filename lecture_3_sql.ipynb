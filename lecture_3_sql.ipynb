{
 "cells": [
  {
   "cell_type": "code",
   "execution_count": 33,
   "id": "e593cdfd",
   "metadata": {},
   "outputs": [],
   "source": [
    "import pandas as pd \n",
    "from sqlalchemy import create_engine\n",
    "from dotenv import load_dotenv\n",
    "import os"
   ]
  },
  {
   "cell_type": "code",
   "execution_count": 34,
   "id": "a6e34488",
   "metadata": {},
   "outputs": [
    {
     "data": {
      "text/plain": [
       "True"
      ]
     },
     "execution_count": 34,
     "metadata": {},
     "output_type": "execute_result"
    }
   ],
   "source": [
    "load_dotenv()"
   ]
  },
  {
   "cell_type": "code",
   "execution_count": 35,
   "id": "55b464b4",
   "metadata": {},
   "outputs": [],
   "source": [
    "user = os.getenv(\"USERNAME\")\n",
    "password = os.getenv(\"PASSWORD\")\n",
    "host = os.getenv(\"HOST\")\n",
    "db = os.getenv(\"DB_NAME\")"
   ]
  },
  {
   "cell_type": "code",
   "execution_count": 36,
   "id": "e6cff2a1",
   "metadata": {},
   "outputs": [
    {
     "data": {
      "text/plain": [
       "'root'"
      ]
     },
     "execution_count": 36,
     "metadata": {},
     "output_type": "execute_result"
    }
   ],
   "source": [
    "user"
   ]
  },
  {
   "cell_type": "code",
   "execution_count": 37,
   "id": "23cf9cd8",
   "metadata": {},
   "outputs": [
    {
     "name": "stdout",
     "output_type": "stream",
     "text": [
      "20\n"
     ]
    }
   ],
   "source": [
    "a=10\n",
    "b=10\n",
    "s=a+b\n",
    "print(f\"{s}\")"
   ]
  },
  {
   "cell_type": "code",
   "execution_count": 38,
   "id": "19fc392a",
   "metadata": {},
   "outputs": [],
   "source": [
    "# Use root user (not zeeshan)\n",
    "engine = create_engine(f\"mysql+pymysql://{user}:{password}@{host}:3306/{db}\")"
   ]
  },
  {
   "cell_type": "code",
   "execution_count": 42,
   "id": "c9c045f8",
   "metadata": {},
   "outputs": [
    {
     "name": "stdout",
     "output_type": "stream",
     "text": [
      "CSV data pushed successfully!\n"
     ]
    }
   ],
   "source": [
    "df = pd.read_csv(\"customers-1000.csv\")\n",
    "df.to_sql(\"customer\", con=engine, if_exists=\"replace\", index=False)\n",
    "\n",
    "print(\"CSV data pushed successfully!\")"
   ]
  },
  {
   "cell_type": "code",
   "execution_count": 43,
   "id": "c5713988",
   "metadata": {},
   "outputs": [
    {
     "name": "stdout",
     "output_type": "stream",
     "text": [
      "CSV data pushed successfully!\n"
     ]
    }
   ],
   "source": [
    "df1 = pd.read_csv(\"organizations-1000.csv\")\n",
    "df1.to_sql(\"organization\", con=engine, if_exists=\"replace\", index=False)\n",
    "\n",
    "print(\"CSV data pushed successfully!\")"
   ]
  },
  {
   "cell_type": "code",
   "execution_count": 46,
   "id": "1748e666",
   "metadata": {},
   "outputs": [],
   "source": [
    "tables = pd.read_sql(\"SELECT * FROM customer LIMIT 10;\", engine)"
   ]
  },
  {
   "cell_type": "code",
   "execution_count": 47,
   "id": "d65be1ba",
   "metadata": {},
   "outputs": [
    {
     "data": {
      "text/html": [
       "<div>\n",
       "<style scoped>\n",
       "    .dataframe tbody tr th:only-of-type {\n",
       "        vertical-align: middle;\n",
       "    }\n",
       "\n",
       "    .dataframe tbody tr th {\n",
       "        vertical-align: top;\n",
       "    }\n",
       "\n",
       "    .dataframe thead th {\n",
       "        text-align: right;\n",
       "    }\n",
       "</style>\n",
       "<table border=\"1\" class=\"dataframe\">\n",
       "  <thead>\n",
       "    <tr style=\"text-align: right;\">\n",
       "      <th></th>\n",
       "      <th>Index</th>\n",
       "      <th>Customer Id</th>\n",
       "      <th>First Name</th>\n",
       "      <th>Last Name</th>\n",
       "      <th>Company</th>\n",
       "      <th>City</th>\n",
       "      <th>Country</th>\n",
       "      <th>Phone 1</th>\n",
       "      <th>Phone 2</th>\n",
       "      <th>Email</th>\n",
       "      <th>Subscription Date</th>\n",
       "      <th>Website</th>\n",
       "    </tr>\n",
       "  </thead>\n",
       "  <tbody>\n",
       "    <tr>\n",
       "      <th>0</th>\n",
       "      <td>1</td>\n",
       "      <td>dE014d010c7ab0c</td>\n",
       "      <td>Andrew</td>\n",
       "      <td>Goodman</td>\n",
       "      <td>Stewart-Flynn</td>\n",
       "      <td>Rowlandberg</td>\n",
       "      <td>Macao</td>\n",
       "      <td>846-790-4623x4715</td>\n",
       "      <td>(422)787-2331x71127</td>\n",
       "      <td>marieyates@gomez-spencer.info</td>\n",
       "      <td>2021-07-26</td>\n",
       "      <td>http://www.shea.biz/</td>\n",
       "    </tr>\n",
       "    <tr>\n",
       "      <th>1</th>\n",
       "      <td>2</td>\n",
       "      <td>2B54172c8b65eC3</td>\n",
       "      <td>Alvin</td>\n",
       "      <td>Lane</td>\n",
       "      <td>Terry, Proctor and Lawrence</td>\n",
       "      <td>Bethside</td>\n",
       "      <td>Papua New Guinea</td>\n",
       "      <td>124-597-8652x05682</td>\n",
       "      <td>321.441.0588x6218</td>\n",
       "      <td>alexandra86@mccoy.com</td>\n",
       "      <td>2021-06-24</td>\n",
       "      <td>http://www.pena-cole.com/</td>\n",
       "    </tr>\n",
       "    <tr>\n",
       "      <th>2</th>\n",
       "      <td>3</td>\n",
       "      <td>d794Dd48988d2ac</td>\n",
       "      <td>Jenna</td>\n",
       "      <td>Harding</td>\n",
       "      <td>Bailey Group</td>\n",
       "      <td>Moniquemouth</td>\n",
       "      <td>China</td>\n",
       "      <td>(335)987-3085x3780</td>\n",
       "      <td>001-680-204-8312</td>\n",
       "      <td>justincurtis@pierce.org</td>\n",
       "      <td>2020-04-05</td>\n",
       "      <td>http://www.booth-reese.biz/</td>\n",
       "    </tr>\n",
       "    <tr>\n",
       "      <th>3</th>\n",
       "      <td>4</td>\n",
       "      <td>3b3Aa4aCc68f3Be</td>\n",
       "      <td>Fernando</td>\n",
       "      <td>Ford</td>\n",
       "      <td>Moss-Maxwell</td>\n",
       "      <td>Leeborough</td>\n",
       "      <td>Macao</td>\n",
       "      <td>(047)752-3122</td>\n",
       "      <td>048.779.5035x9122</td>\n",
       "      <td>adeleon@hubbard.org</td>\n",
       "      <td>2020-11-29</td>\n",
       "      <td>http://www.hebert.com/</td>\n",
       "    </tr>\n",
       "    <tr>\n",
       "      <th>4</th>\n",
       "      <td>5</td>\n",
       "      <td>D60df62ad2ae41E</td>\n",
       "      <td>Kara</td>\n",
       "      <td>Woods</td>\n",
       "      <td>Mccarthy-Kelley</td>\n",
       "      <td>Port Jacksonland</td>\n",
       "      <td>Nepal</td>\n",
       "      <td>+1-360-693-4419x19272</td>\n",
       "      <td>163-627-2565</td>\n",
       "      <td>jesus90@roberson.info</td>\n",
       "      <td>2022-04-22</td>\n",
       "      <td>http://merritt.com/</td>\n",
       "    </tr>\n",
       "    <tr>\n",
       "      <th>5</th>\n",
       "      <td>6</td>\n",
       "      <td>8aaa5d0CE9ee311</td>\n",
       "      <td>Marissa</td>\n",
       "      <td>Gamble</td>\n",
       "      <td>Cherry and Sons</td>\n",
       "      <td>Webertown</td>\n",
       "      <td>Sudan</td>\n",
       "      <td>001-645-334-5514x0786</td>\n",
       "      <td>(751)980-3163</td>\n",
       "      <td>katieallison@leonard.com</td>\n",
       "      <td>2021-11-17</td>\n",
       "      <td>http://www.kaufman.org/</td>\n",
       "    </tr>\n",
       "    <tr>\n",
       "      <th>6</th>\n",
       "      <td>7</td>\n",
       "      <td>73B22Ac8A43DD1A</td>\n",
       "      <td>Julie</td>\n",
       "      <td>Cooley</td>\n",
       "      <td>Yu, Norman and Sharp</td>\n",
       "      <td>West Sandra</td>\n",
       "      <td>Japan</td>\n",
       "      <td>+1-675-243-7422x9177</td>\n",
       "      <td>(703)337-5903</td>\n",
       "      <td>priscilla88@stephens.info</td>\n",
       "      <td>2022-03-26</td>\n",
       "      <td>http://www.sexton-chang.com/</td>\n",
       "    </tr>\n",
       "    <tr>\n",
       "      <th>7</th>\n",
       "      <td>8</td>\n",
       "      <td>DC94CCd993D311b</td>\n",
       "      <td>Lauren</td>\n",
       "      <td>Villa</td>\n",
       "      <td>French, Travis and Hensley</td>\n",
       "      <td>New Yolanda</td>\n",
       "      <td>Fiji</td>\n",
       "      <td>081.226.1797x647</td>\n",
       "      <td>186.540.9690x605</td>\n",
       "      <td>colehumphrey@austin-caldwell.com</td>\n",
       "      <td>2020-08-14</td>\n",
       "      <td>https://www.kerr.com/</td>\n",
       "    </tr>\n",
       "    <tr>\n",
       "      <th>8</th>\n",
       "      <td>9</td>\n",
       "      <td>9Ba746Cb790FED9</td>\n",
       "      <td>Emily</td>\n",
       "      <td>Bryant</td>\n",
       "      <td>Moon, Strickland and Combs</td>\n",
       "      <td>East Normanchester</td>\n",
       "      <td>Seychelles</td>\n",
       "      <td>430-401-5228x35091</td>\n",
       "      <td>115-835-3840</td>\n",
       "      <td>buckyvonne@church-lutz.com</td>\n",
       "      <td>2020-12-30</td>\n",
       "      <td>http://grimes.com/</td>\n",
       "    </tr>\n",
       "    <tr>\n",
       "      <th>9</th>\n",
       "      <td>10</td>\n",
       "      <td>aAa1EDfaA70DA0c</td>\n",
       "      <td>Marie</td>\n",
       "      <td>Estrada</td>\n",
       "      <td>May Inc</td>\n",
       "      <td>Welchton</td>\n",
       "      <td>United Arab Emirates</td>\n",
       "      <td>001-648-790-9244</td>\n",
       "      <td>973-767-3611</td>\n",
       "      <td>christie44@mckenzie.biz</td>\n",
       "      <td>2020-09-03</td>\n",
       "      <td>https://www.salinas.net/</td>\n",
       "    </tr>\n",
       "  </tbody>\n",
       "</table>\n",
       "</div>"
      ],
      "text/plain": [
       "   Index      Customer Id First Name Last Name                      Company  \\\n",
       "0      1  dE014d010c7ab0c     Andrew   Goodman                Stewart-Flynn   \n",
       "1      2  2B54172c8b65eC3      Alvin      Lane  Terry, Proctor and Lawrence   \n",
       "2      3  d794Dd48988d2ac      Jenna   Harding                 Bailey Group   \n",
       "3      4  3b3Aa4aCc68f3Be   Fernando      Ford                 Moss-Maxwell   \n",
       "4      5  D60df62ad2ae41E       Kara     Woods              Mccarthy-Kelley   \n",
       "5      6  8aaa5d0CE9ee311    Marissa    Gamble              Cherry and Sons   \n",
       "6      7  73B22Ac8A43DD1A      Julie    Cooley         Yu, Norman and Sharp   \n",
       "7      8  DC94CCd993D311b     Lauren     Villa   French, Travis and Hensley   \n",
       "8      9  9Ba746Cb790FED9      Emily    Bryant   Moon, Strickland and Combs   \n",
       "9     10  aAa1EDfaA70DA0c      Marie   Estrada                      May Inc   \n",
       "\n",
       "                 City               Country                Phone 1  \\\n",
       "0         Rowlandberg                 Macao      846-790-4623x4715   \n",
       "1            Bethside      Papua New Guinea     124-597-8652x05682   \n",
       "2        Moniquemouth                 China     (335)987-3085x3780   \n",
       "3          Leeborough                 Macao          (047)752-3122   \n",
       "4    Port Jacksonland                 Nepal  +1-360-693-4419x19272   \n",
       "5           Webertown                 Sudan  001-645-334-5514x0786   \n",
       "6         West Sandra                 Japan   +1-675-243-7422x9177   \n",
       "7         New Yolanda                  Fiji       081.226.1797x647   \n",
       "8  East Normanchester            Seychelles     430-401-5228x35091   \n",
       "9            Welchton  United Arab Emirates       001-648-790-9244   \n",
       "\n",
       "               Phone 2                             Email Subscription Date  \\\n",
       "0  (422)787-2331x71127     marieyates@gomez-spencer.info        2021-07-26   \n",
       "1    321.441.0588x6218             alexandra86@mccoy.com        2021-06-24   \n",
       "2     001-680-204-8312           justincurtis@pierce.org        2020-04-05   \n",
       "3    048.779.5035x9122               adeleon@hubbard.org        2020-11-29   \n",
       "4         163-627-2565             jesus90@roberson.info        2022-04-22   \n",
       "5        (751)980-3163          katieallison@leonard.com        2021-11-17   \n",
       "6        (703)337-5903         priscilla88@stephens.info        2022-03-26   \n",
       "7     186.540.9690x605  colehumphrey@austin-caldwell.com        2020-08-14   \n",
       "8         115-835-3840        buckyvonne@church-lutz.com        2020-12-30   \n",
       "9         973-767-3611           christie44@mckenzie.biz        2020-09-03   \n",
       "\n",
       "                        Website  \n",
       "0          http://www.shea.biz/  \n",
       "1     http://www.pena-cole.com/  \n",
       "2   http://www.booth-reese.biz/  \n",
       "3        http://www.hebert.com/  \n",
       "4           http://merritt.com/  \n",
       "5       http://www.kaufman.org/  \n",
       "6  http://www.sexton-chang.com/  \n",
       "7         https://www.kerr.com/  \n",
       "8            http://grimes.com/  \n",
       "9      https://www.salinas.net/  "
      ]
     },
     "execution_count": 47,
     "metadata": {},
     "output_type": "execute_result"
    }
   ],
   "source": [
    "tables"
   ]
  }
 ],
 "metadata": {
  "kernelspec": {
   "display_name": "lectures",
   "language": "python",
   "name": "python3"
  },
  "language_info": {
   "codemirror_mode": {
    "name": "ipython",
    "version": 3
   },
   "file_extension": ".py",
   "mimetype": "text/x-python",
   "name": "python",
   "nbconvert_exporter": "python",
   "pygments_lexer": "ipython3",
   "version": "3.12.3"
  }
 },
 "nbformat": 4,
 "nbformat_minor": 5
}
